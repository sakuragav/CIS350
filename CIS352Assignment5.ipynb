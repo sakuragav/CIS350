{
  "nbformat": 4,
  "nbformat_minor": 0,
  "metadata": {
    "colab": {
      "provenance": [],
      "authorship_tag": "ABX9TyMpRvVqkFvPMoDW9cn+oBut",
      "include_colab_link": true
    },
    "kernelspec": {
      "name": "python3",
      "display_name": "Python 3"
    },
    "language_info": {
      "name": "python"
    }
  },
  "cells": [
    {
      "cell_type": "markdown",
      "metadata": {
        "id": "view-in-github",
        "colab_type": "text"
      },
      "source": [
        "<a href=\"https://colab.research.google.com/github/sakuragav/CIS350/blob/Assignments/CIS352Assignment5.ipynb\" target=\"_parent\"><img src=\"https://colab.research.google.com/assets/colab-badge.svg\" alt=\"Open In Colab\"/></a>"
      ]
    },
    {
      "cell_type": "code",
      "source": [
        "! pip install pyspark\n",
        "\n",
        "from pyspark.sql import SparkSession\n",
        "\n",
        "# Create SparkSession\n",
        "spark = SparkSession.builder.appName(\"Assignment5\").getOrCreate()"
      ],
      "metadata": {
        "colab": {
          "base_uri": "https://localhost:8080/"
        },
        "id": "ZDQ--Y41DOie",
        "outputId": "da30b19e-fcda-4395-c438-34d034cfcf2f"
      },
      "execution_count": null,
      "outputs": [
        {
          "output_type": "stream",
          "name": "stdout",
          "text": [
            "Looking in indexes: https://pypi.org/simple, https://us-python.pkg.dev/colab-wheels/public/simple/\n",
            "Collecting pyspark\n",
            "  Downloading pyspark-3.3.2.tar.gz (281.4 MB)\n",
            "\u001b[2K     \u001b[90m━━━━━━━━━━━━━━━━━━━━━━━━━━━━━━━━━━━━━━━\u001b[0m \u001b[32m281.4/281.4 MB\u001b[0m \u001b[31m3.8 MB/s\u001b[0m eta \u001b[36m0:00:00\u001b[0m\n",
            "\u001b[?25h  Preparing metadata (setup.py) ... \u001b[?25l\u001b[?25hdone\n",
            "Collecting py4j==0.10.9.5\n",
            "  Downloading py4j-0.10.9.5-py2.py3-none-any.whl (199 kB)\n",
            "\u001b[2K     \u001b[90m━━━━━━━━━━━━━━━━━━━━━━━━━━━━━━━━━━━━━━\u001b[0m \u001b[32m199.7/199.7 KB\u001b[0m \u001b[31m13.2 MB/s\u001b[0m eta \u001b[36m0:00:00\u001b[0m\n",
            "\u001b[?25hBuilding wheels for collected packages: pyspark\n",
            "  Building wheel for pyspark (setup.py) ... \u001b[?25l\u001b[?25hdone\n",
            "  Created wheel for pyspark: filename=pyspark-3.3.2-py2.py3-none-any.whl size=281824028 sha256=516aa63decb6d22cc402306b8dfbd250395d3322c1a7c5273422fb12fab889be\n",
            "  Stored in directory: /root/.cache/pip/wheels/6c/e3/9b/0525ce8a69478916513509d43693511463c6468db0de237c86\n",
            "Successfully built pyspark\n",
            "Installing collected packages: py4j, pyspark\n",
            "  Attempting uninstall: py4j\n",
            "    Found existing installation: py4j 0.10.9.7\n",
            "    Uninstalling py4j-0.10.9.7:\n",
            "      Successfully uninstalled py4j-0.10.9.7\n",
            "Successfully installed py4j-0.10.9.5 pyspark-3.3.2\n"
          ]
        }
      ]
    },
    {
      "cell_type": "code",
      "execution_count": null,
      "metadata": {
        "id": "9oL4HZgqKZDH",
        "colab": {
          "base_uri": "https://localhost:8080/"
        },
        "outputId": "78f664ba-c576-48fd-e7e6-f1551b695006"
      },
      "outputs": [
        {
          "output_type": "stream",
          "name": "stdout",
          "text": [
            "--2023-03-28 15:26:54--  https://raw.githubusercontent.com/manishkr1754/Descriptive_Analysis_FIFA19_SQL/main/FIFA19_Players_Datasets.csv\n",
            "Resolving raw.githubusercontent.com (raw.githubusercontent.com)... 185.199.108.133, 185.199.109.133, 185.199.110.133, ...\n",
            "Connecting to raw.githubusercontent.com (raw.githubusercontent.com)|185.199.108.133|:443... connected.\n",
            "HTTP request sent, awaiting response... 200 OK\n",
            "Length: 1579210 (1.5M) [text/plain]\n",
            "Saving to: ‘FIFA19_Players_Datasets.csv’\n",
            "\n",
            "\r          FIFA19_Pl   0%[                    ]       0  --.-KB/s               \rFIFA19_Players_Data 100%[===================>]   1.51M  --.-KB/s    in 0.01s   \n",
            "\n",
            "2023-03-28 15:26:55 (110 MB/s) - ‘FIFA19_Players_Datasets.csv’ saved [1579210/1579210]\n",
            "\n",
            "+------+-----------------+---+-----------+--------------+----------------+-------------------+---------+------+--------------+---------+----------+------+------+---------+\n",
            "|    ID|             Name|Age|Nationality|Overall_rating|Potential_rating|               Club|    Value|  Wage|Preferred_Foot|Jersey_No|    Joined|Height|Weight|Penalties|\n",
            "+------+-----------------+---+-----------+--------------+----------------+-------------------+---------+------+--------------+---------+----------+------+------+---------+\n",
            "|158023|         L. Messi| 31|  Argentina|            94|              94|       FC Barcelona|110500000|565000|          Left|       10|01-07-2004|   5'7|   159|       75|\n",
            "| 20801|Cristiano Ronaldo| 33|   Portugal|            94|              94|           Juventus| 77000000|405000|         Right|        7|10-07-2018|   6'2|   183|       85|\n",
            "|190871|        Neymar Jr| 26|     Brazil|            92|              93|Paris Saint-Germain|118500000|290000|         Right|       10|03-08-2017|   5'9|   150|       81|\n",
            "|193080|           De Gea| 27|      Spain|            91|              93|  Manchester United| 72000000|260000|         Right|        1|01-07-2011|   6'4|   168|       40|\n",
            "|192985|     K. De Bruyne| 27|    Belgium|            91|              92|    Manchester City|102000000|355000|         Right|        7|30-08-2015|  5'11|   154|       79|\n",
            "+------+-----------------+---+-----------+--------------+----------------+-------------------+---------+------+--------------+---------+----------+------+------+---------+\n",
            "\n"
          ]
        }
      ],
      "source": [
        "!wget https://raw.githubusercontent.com/manishkr1754/Descriptive_Analysis_FIFA19_SQL/main/FIFA19_Players_Datasets.csv\n",
        "\n",
        "df = spark.read.csv('FIFA19_Players_Datasets.csv', header = True)\n",
        "\n",
        "# Register Temporary Table\n",
        "df.createOrReplaceTempView(\"fifa\")\n",
        "\n",
        "# Select all data from temp table\n",
        "spark.sql(\"select * from fifa limit 5\").show()\n"
      ]
    },
    {
      "cell_type": "code",
      "source": [
        "# Write a SQL query to count how many players are there in the dataset\n",
        "spark.sql(\"select count(*) as count from fifa\").show()"
      ],
      "metadata": {
        "colab": {
          "base_uri": "https://localhost:8080/"
        },
        "id": "xbN1VBYkERtE",
        "outputId": "5f55ebf0-86fa-447d-fd2d-340aeb2c9357"
      },
      "execution_count": null,
      "outputs": [
        {
          "output_type": "stream",
          "name": "stdout",
          "text": [
            "+-----+\n",
            "|count|\n",
            "+-----+\n",
            "|16643|\n",
            "+-----+\n",
            "\n"
          ]
        }
      ]
    },
    {
      "cell_type": "code",
      "source": [
        "# Write a SQL query to determine how many distinct nationalities do these players belong to\n",
        "spark.sql(\"select count(distinct nationality) as distinctnationalities from fifa\").show()\n",
        "spark.sql(\"select count(nationality) as count from fifa group by nationality\").show(162)"
      ],
      "metadata": {
        "colab": {
          "base_uri": "https://localhost:8080/"
        },
        "id": "GBRo9zy1Es_t",
        "outputId": "abbbfc68-e04c-4458-89a6-f7025329b0b9"
      },
      "execution_count": null,
      "outputs": [
        {
          "output_type": "stream",
          "name": "stdout",
          "text": [
            "+---------------------+\n",
            "|distinctnationalities|\n",
            "+---------------------+\n",
            "|                  161|\n",
            "+---------------------+\n",
            "\n",
            "+-----+\n",
            "|count|\n",
            "+-----+\n",
            "|    2|\n",
            "|   67|\n",
            "|   59|\n",
            "|  114|\n",
            "|  384|\n",
            "|    3|\n",
            "|    2|\n",
            "|    2|\n",
            "|    1|\n",
            "|  293|\n",
            "|    6|\n",
            "| 1151|\n",
            "|    3|\n",
            "|    6|\n",
            "|    4|\n",
            "|   83|\n",
            "|    1|\n",
            "|    1|\n",
            "|    3|\n",
            "|  853|\n",
            "|   98|\n",
            "|   32|\n",
            "|    3|\n",
            "|   48|\n",
            "|    4|\n",
            "|   56|\n",
            "|   11|\n",
            "|    5|\n",
            "|   50|\n",
            "|  833|\n",
            "|  116|\n",
            "|  231|\n",
            "|   13|\n",
            "|   28|\n",
            "|    1|\n",
            "|   37|\n",
            "|   12|\n",
            "|   64|\n",
            "|    1|\n",
            "|  102|\n",
            "|    1|\n",
            "|   26|\n",
            "|   15|\n",
            "|    6|\n",
            "|  336|\n",
            "|   13|\n",
            "|    4|\n",
            "|    1|\n",
            "|  352|\n",
            "|    1|\n",
            "|  113|\n",
            "|    3|\n",
            "|  109|\n",
            "|    6|\n",
            "|    1|\n",
            "|   14|\n",
            "|  315|\n",
            "|  579|\n",
            "|    4|\n",
            "|    8|\n",
            "|  333|\n",
            "|  974|\n",
            "|    4|\n",
            "|    3|\n",
            "|  322|\n",
            "|    3|\n",
            "|    3|\n",
            "|   17|\n",
            "|   22|\n",
            "|    3|\n",
            "|    5|\n",
            "|   79|\n",
            "|   19|\n",
            "|   15|\n",
            "|    2|\n",
            "|    3|\n",
            "|   72|\n",
            "|   52|\n",
            "|   34|\n",
            "|   13|\n",
            "|    1|\n",
            "|   57|\n",
            "|    1|\n",
            "|    8|\n",
            "|    1|\n",
            "|  133|\n",
            "|  332|\n",
            "|   19|\n",
            "|   20|\n",
            "|   13|\n",
            "|   12|\n",
            "|   25|\n",
            "|    1|\n",
            "|    3|\n",
            "|    1|\n",
            "|    4|\n",
            "|    5|\n",
            "|    1|\n",
            "|    9|\n",
            "|   29|\n",
            "|    1|\n",
            "|    9|\n",
            "|   15|\n",
            "|  313|\n",
            "|    6|\n",
            "|    3|\n",
            "|  205|\n",
            "|    9|\n",
            "|    1|\n",
            "|   32|\n",
            "|    6|\n",
            "|    1|\n",
            "|    1|\n",
            "|   30|\n",
            "|   58|\n",
            "|    2|\n",
            "|    5|\n",
            "|   93|\n",
            "|    4|\n",
            "|  788|\n",
            "|    1|\n",
            "|   10|\n",
            "|   13|\n",
            "|    1|\n",
            "|   48|\n",
            "|    2|\n",
            "|  455|\n",
            "|    3|\n",
            "|    1|\n",
            "|  344|\n",
            "|    6|\n",
            "|   34|\n",
            "| 1475|\n",
            "|    3|\n",
            "|  378|\n",
            "|   10|\n",
            "|  334|\n",
            "|  290|\n",
            "|   85|\n",
            "|  224|\n",
            "|   38|\n",
            "|   12|\n",
            "|  286|\n",
            "|   20|\n",
            "|   30|\n",
            "|    5|\n",
            "|    4|\n",
            "|  116|\n",
            "|   16|\n",
            "|   55|\n",
            "|    1|\n",
            "|  269|\n",
            "|  570|\n",
            "|   70|\n",
            "|   21|\n",
            "|   14|\n",
            "|    4|\n",
            "|    1|\n",
            "|    5|\n",
            "|  426|\n",
            "|   38|\n",
            "+-----+\n",
            "\n"
          ]
        }
      ]
    },
    {
      "cell_type": "code",
      "source": [
        "# Write a SQL query to determine which nationality has the highest number of players, what are the top 3 nationalities by number of players\n",
        "spark.sql(\"select nationality, count(*) as count from fifa group by nationality order by count(*) desc\").show(3)"
      ],
      "metadata": {
        "colab": {
          "base_uri": "https://localhost:8080/"
        },
        "id": "e_xTNvlTJ7uU",
        "outputId": "94d807b1-6418-4e2e-922c-97b602296391"
      },
      "execution_count": null,
      "outputs": [
        {
          "output_type": "stream",
          "name": "stdout",
          "text": [
            "+-----------+-----+\n",
            "|nationality|count|\n",
            "+-----------+-----+\n",
            "|    England| 1475|\n",
            "|    Germany| 1151|\n",
            "|      Spain|  974|\n",
            "+-----------+-----+\n",
            "only showing top 3 rows\n",
            "\n"
          ]
        }
      ]
    },
    {
      "cell_type": "code",
      "source": [
        "# Write a SQL query to determine the top 3 players with the highest wage\n",
        "spark.sql(\"select name, int(wage) from fifa order by int(wage) desc\").show(3)"
      ],
      "metadata": {
        "colab": {
          "base_uri": "https://localhost:8080/"
        },
        "id": "5MCUZF5JNJBc",
        "outputId": "8cef973e-e0ff-4e9e-ba69-10ca80d42dd6"
      },
      "execution_count": null,
      "outputs": [
        {
          "output_type": "stream",
          "name": "stdout",
          "text": [
            "+----------+------+\n",
            "|      name|  wage|\n",
            "+----------+------+\n",
            "|  L. Messi|565000|\n",
            "|L. Su��rez|455000|\n",
            "| L. Modriۈ|420000|\n",
            "+----------+------+\n",
            "only showing top 3 rows\n",
            "\n"
          ]
        }
      ]
    },
    {
      "cell_type": "code",
      "source": [
        "spark.sql(\"select * from fifa where wage > 400000\").show()"
      ],
      "metadata": {
        "colab": {
          "base_uri": "https://localhost:8080/"
        },
        "id": "hzbtqc9Rgt2d",
        "outputId": "4f2a025b-db54-489d-a167-260d8af524ef"
      },
      "execution_count": null,
      "outputs": [
        {
          "output_type": "stream",
          "name": "stdout",
          "text": [
            "+------+-----------------+---+-----------+--------------+----------------+------------+---------+------+--------------+---------+----------+------+------+---------+\n",
            "|    ID|             Name|Age|Nationality|Overall_rating|Potential_rating|        Club|    Value|  Wage|Preferred_Foot|Jersey_No|    Joined|Height|Weight|Penalties|\n",
            "+------+-----------------+---+-----------+--------------+----------------+------------+---------+------+--------------+---------+----------+------+------+---------+\n",
            "|158023|         L. Messi| 31|  Argentina|            94|              94|FC Barcelona|110500000|565000|          Left|       10|01-07-2004|   5'7|   159|       75|\n",
            "| 20801|Cristiano Ronaldo| 33|   Portugal|            94|              94|    Juventus| 77000000|405000|         Right|        7|10-07-2018|   6'2|   183|       85|\n",
            "|177003|        L. Modriۈ| 32|    Croatia|            91|              91| Real Madrid| 67000000|420000|         Right|       10|01-08-2012|   5'8|   146|       82|\n",
            "|176580|       L. Su��rez| 31|    Uruguay|            91|              91|FC Barcelona| 80000000|455000|         Right|        9|11-07-2014|   6'0|   190|       85|\n",
            "+------+-----------------+---+-----------+--------------+----------------+------------+---------+------+--------------+---------+----------+------+------+---------+\n",
            "\n"
          ]
        }
      ]
    }
  ]
}