{
  "nbformat": 4,
  "nbformat_minor": 0,
  "metadata": {
    "colab": {
      "provenance": [],
      "authorship_tag": "ABX9TyPL5FFgPuJRodEV4JwbTChC",
      "include_colab_link": true
    },
    "kernelspec": {
      "name": "python3",
      "display_name": "Python 3"
    },
    "language_info": {
      "name": "python"
    }
  },
  "cells": [
    {
      "cell_type": "markdown",
      "metadata": {
        "id": "view-in-github",
        "colab_type": "text"
      },
      "source": [
        "<a href=\"https://colab.research.google.com/github/sakuragav/CIS350/blob/Assignments/CIS352Assignment4.ipynb\" target=\"_parent\"><img src=\"https://colab.research.google.com/assets/colab-badge.svg\" alt=\"Open In Colab\"/></a>"
      ]
    },
    {
      "cell_type": "code",
      "execution_count": null,
      "metadata": {
        "colab": {
          "base_uri": "https://localhost:8080/",
          "height": 857
        },
        "id": "VKr1DEKPBwlT",
        "outputId": "e636d0a9-b03b-4f2a-8854-551f77d567f0"
      },
      "outputs": [
        {
          "output_type": "stream",
          "name": "stdout",
          "text": [
            "Looking in indexes: https://pypi.org/simple, https://us-python.pkg.dev/colab-wheels/public/simple/\n",
            "Collecting pyspark\n",
            "  Downloading pyspark-3.3.2.tar.gz (281.4 MB)\n",
            "\u001b[2K     \u001b[90m━━━━━━━━━━━━━━━━━━━━━━━━━━━━━━━━━━━━━━━\u001b[0m \u001b[32m281.4/281.4 MB\u001b[0m \u001b[31m4.2 MB/s\u001b[0m eta \u001b[36m0:00:00\u001b[0m\n",
            "\u001b[?25h  Preparing metadata (setup.py) ... \u001b[?25l\u001b[?25hdone\n",
            "Collecting py4j==0.10.9.5\n",
            "  Downloading py4j-0.10.9.5-py2.py3-none-any.whl (199 kB)\n",
            "\u001b[2K     \u001b[90m━━━━━━━━━━━━━━━━━━━━━━━━━━━━━━━━━━━━━━━\u001b[0m \u001b[32m199.7/199.7 KB\u001b[0m \u001b[31m9.3 MB/s\u001b[0m eta \u001b[36m0:00:00\u001b[0m\n",
            "\u001b[?25hBuilding wheels for collected packages: pyspark\n",
            "  Building wheel for pyspark (setup.py) ... \u001b[?25l\u001b[?25hdone\n",
            "  Created wheel for pyspark: filename=pyspark-3.3.2-py2.py3-none-any.whl size=281824025 sha256=2dbbce570beee60f586bd4cf36fbfd6f19aa19c45696ff98f3b1abe2846fd482\n",
            "  Stored in directory: /root/.cache/pip/wheels/b1/59/a0/a1a0624b5e865fd389919c1a10f53aec9b12195d6747710baf\n",
            "Successfully built pyspark\n",
            "Installing collected packages: py4j, pyspark\n",
            "Successfully installed py4j-0.10.9.5 pyspark-3.3.2\n"
          ]
        },
        {
          "output_type": "display_data",
          "data": {
            "text/plain": [
              "<IPython.core.display.HTML object>"
            ],
            "text/html": [
              "\n",
              "     <input type=\"file\" id=\"files-902769dd-4f87-4ad4-a50b-56b089079b18\" name=\"files[]\" multiple disabled\n",
              "        style=\"border:none\" />\n",
              "     <output id=\"result-902769dd-4f87-4ad4-a50b-56b089079b18\">\n",
              "      Upload widget is only available when the cell has been executed in the\n",
              "      current browser session. Please rerun this cell to enable.\n",
              "      </output>\n",
              "      <script>// Copyright 2017 Google LLC\n",
              "//\n",
              "// Licensed under the Apache License, Version 2.0 (the \"License\");\n",
              "// you may not use this file except in compliance with the License.\n",
              "// You may obtain a copy of the License at\n",
              "//\n",
              "//      http://www.apache.org/licenses/LICENSE-2.0\n",
              "//\n",
              "// Unless required by applicable law or agreed to in writing, software\n",
              "// distributed under the License is distributed on an \"AS IS\" BASIS,\n",
              "// WITHOUT WARRANTIES OR CONDITIONS OF ANY KIND, either express or implied.\n",
              "// See the License for the specific language governing permissions and\n",
              "// limitations under the License.\n",
              "\n",
              "/**\n",
              " * @fileoverview Helpers for google.colab Python module.\n",
              " */\n",
              "(function(scope) {\n",
              "function span(text, styleAttributes = {}) {\n",
              "  const element = document.createElement('span');\n",
              "  element.textContent = text;\n",
              "  for (const key of Object.keys(styleAttributes)) {\n",
              "    element.style[key] = styleAttributes[key];\n",
              "  }\n",
              "  return element;\n",
              "}\n",
              "\n",
              "// Max number of bytes which will be uploaded at a time.\n",
              "const MAX_PAYLOAD_SIZE = 100 * 1024;\n",
              "\n",
              "function _uploadFiles(inputId, outputId) {\n",
              "  const steps = uploadFilesStep(inputId, outputId);\n",
              "  const outputElement = document.getElementById(outputId);\n",
              "  // Cache steps on the outputElement to make it available for the next call\n",
              "  // to uploadFilesContinue from Python.\n",
              "  outputElement.steps = steps;\n",
              "\n",
              "  return _uploadFilesContinue(outputId);\n",
              "}\n",
              "\n",
              "// This is roughly an async generator (not supported in the browser yet),\n",
              "// where there are multiple asynchronous steps and the Python side is going\n",
              "// to poll for completion of each step.\n",
              "// This uses a Promise to block the python side on completion of each step,\n",
              "// then passes the result of the previous step as the input to the next step.\n",
              "function _uploadFilesContinue(outputId) {\n",
              "  const outputElement = document.getElementById(outputId);\n",
              "  const steps = outputElement.steps;\n",
              "\n",
              "  const next = steps.next(outputElement.lastPromiseValue);\n",
              "  return Promise.resolve(next.value.promise).then((value) => {\n",
              "    // Cache the last promise value to make it available to the next\n",
              "    // step of the generator.\n",
              "    outputElement.lastPromiseValue = value;\n",
              "    return next.value.response;\n",
              "  });\n",
              "}\n",
              "\n",
              "/**\n",
              " * Generator function which is called between each async step of the upload\n",
              " * process.\n",
              " * @param {string} inputId Element ID of the input file picker element.\n",
              " * @param {string} outputId Element ID of the output display.\n",
              " * @return {!Iterable<!Object>} Iterable of next steps.\n",
              " */\n",
              "function* uploadFilesStep(inputId, outputId) {\n",
              "  const inputElement = document.getElementById(inputId);\n",
              "  inputElement.disabled = false;\n",
              "\n",
              "  const outputElement = document.getElementById(outputId);\n",
              "  outputElement.innerHTML = '';\n",
              "\n",
              "  const pickedPromise = new Promise((resolve) => {\n",
              "    inputElement.addEventListener('change', (e) => {\n",
              "      resolve(e.target.files);\n",
              "    });\n",
              "  });\n",
              "\n",
              "  const cancel = document.createElement('button');\n",
              "  inputElement.parentElement.appendChild(cancel);\n",
              "  cancel.textContent = 'Cancel upload';\n",
              "  const cancelPromise = new Promise((resolve) => {\n",
              "    cancel.onclick = () => {\n",
              "      resolve(null);\n",
              "    };\n",
              "  });\n",
              "\n",
              "  // Wait for the user to pick the files.\n",
              "  const files = yield {\n",
              "    promise: Promise.race([pickedPromise, cancelPromise]),\n",
              "    response: {\n",
              "      action: 'starting',\n",
              "    }\n",
              "  };\n",
              "\n",
              "  cancel.remove();\n",
              "\n",
              "  // Disable the input element since further picks are not allowed.\n",
              "  inputElement.disabled = true;\n",
              "\n",
              "  if (!files) {\n",
              "    return {\n",
              "      response: {\n",
              "        action: 'complete',\n",
              "      }\n",
              "    };\n",
              "  }\n",
              "\n",
              "  for (const file of files) {\n",
              "    const li = document.createElement('li');\n",
              "    li.append(span(file.name, {fontWeight: 'bold'}));\n",
              "    li.append(span(\n",
              "        `(${file.type || 'n/a'}) - ${file.size} bytes, ` +\n",
              "        `last modified: ${\n",
              "            file.lastModifiedDate ? file.lastModifiedDate.toLocaleDateString() :\n",
              "                                    'n/a'} - `));\n",
              "    const percent = span('0% done');\n",
              "    li.appendChild(percent);\n",
              "\n",
              "    outputElement.appendChild(li);\n",
              "\n",
              "    const fileDataPromise = new Promise((resolve) => {\n",
              "      const reader = new FileReader();\n",
              "      reader.onload = (e) => {\n",
              "        resolve(e.target.result);\n",
              "      };\n",
              "      reader.readAsArrayBuffer(file);\n",
              "    });\n",
              "    // Wait for the data to be ready.\n",
              "    let fileData = yield {\n",
              "      promise: fileDataPromise,\n",
              "      response: {\n",
              "        action: 'continue',\n",
              "      }\n",
              "    };\n",
              "\n",
              "    // Use a chunked sending to avoid message size limits. See b/62115660.\n",
              "    let position = 0;\n",
              "    do {\n",
              "      const length = Math.min(fileData.byteLength - position, MAX_PAYLOAD_SIZE);\n",
              "      const chunk = new Uint8Array(fileData, position, length);\n",
              "      position += length;\n",
              "\n",
              "      const base64 = btoa(String.fromCharCode.apply(null, chunk));\n",
              "      yield {\n",
              "        response: {\n",
              "          action: 'append',\n",
              "          file: file.name,\n",
              "          data: base64,\n",
              "        },\n",
              "      };\n",
              "\n",
              "      let percentDone = fileData.byteLength === 0 ?\n",
              "          100 :\n",
              "          Math.round((position / fileData.byteLength) * 100);\n",
              "      percent.textContent = `${percentDone}% done`;\n",
              "\n",
              "    } while (position < fileData.byteLength);\n",
              "  }\n",
              "\n",
              "  // All done.\n",
              "  yield {\n",
              "    response: {\n",
              "      action: 'complete',\n",
              "    }\n",
              "  };\n",
              "}\n",
              "\n",
              "scope.google = scope.google || {};\n",
              "scope.google.colab = scope.google.colab || {};\n",
              "scope.google.colab._files = {\n",
              "  _uploadFiles,\n",
              "  _uploadFilesContinue,\n",
              "};\n",
              "})(self);\n",
              "</script> "
            ]
          },
          "metadata": {}
        },
        {
          "output_type": "stream",
          "name": "stdout",
          "text": [
            "Saving Fortune 500.csv to Fortune 500.csv\n",
            "root\n",
            " |-- Rank: integer (nullable = true)\n",
            " |-- Title: string (nullable = true)\n",
            " |-- Website: string (nullable = true)\n",
            " |-- Employees: integer (nullable = true)\n",
            " |-- Sector: string (nullable = true)\n",
            " |-- Industry: string (nullable = true)\n",
            " |-- Hqlocation: string (nullable = true)\n",
            " |-- Hqaddr: string (nullable = true)\n",
            " |-- Hqcity: string (nullable = true)\n",
            " |-- Hqstate: string (nullable = true)\n",
            " |-- Hqzip: integer (nullable = true)\n",
            " |-- Hqtel: string (nullable = true)\n",
            " |-- Ceo: string (nullable = true)\n",
            " |-- Ceo-title: string (nullable = true)\n",
            " |-- Address: string (nullable = true)\n",
            " |-- Ticker: string (nullable = true)\n",
            " |-- Fullname: string (nullable = true)\n",
            " |-- Revenues: string (nullable = true)\n",
            " |-- Revchange: double (nullable = true)\n",
            " |-- Profits: double (nullable = true)\n",
            " |-- Prftchange: string (nullable = true)\n",
            " |-- Assets: double (nullable = true)\n",
            " |-- Totshequity: double (nullable = true)\n",
            "\n"
          ]
        },
        {
          "output_type": "execute_result",
          "data": {
            "text/plain": [
              "Row(Rank=1, Title='Walmart', Website='http://www.walmart.com', Employees=2300000, Sector='Retailing', Industry='General Merchandisers', Hqlocation='Bentonville, AR', Hqaddr='702 S.W. Eighth St.', Hqcity='Bentonville', Hqstate='AR', Hqzip=72716, Hqtel='479-273-4000', Ceo='C. Douglas McMillon', Ceo-title='President, Chief Executive Officer & Director', Address='702 S.W. Eighth St., Bentonville, AR 72716', Ticker='WMT', Fullname='Wal-Mart Stores, Inc.', Revenues='485873', Revchange=0.8, Profits=13643.0, Prftchange='-7.2', Assets=198825.0, Totshequity=77798.0)"
            ]
          },
          "metadata": {},
          "execution_count": 2
        }
      ],
      "source": [
        "! pip install pyspark\n",
        "from pyspark.sql import SparkSession\n",
        "spark = SparkSession.builder.appName(\"CIS 352 Assignment 4\").getOrCreate()\n",
        "from google.colab import files\n",
        "uploaded = files.upload()\n",
        "fortune_df = spark.read.csv('Fortune 500.csv', header = True, inferSchema = True)\n",
        "fortune_df.printSchema()\n",
        "fortune_df.head()"
      ]
    },
    {
      "cell_type": "code",
      "source": [
        "fortune_df.withColumn(\"Rank\", fortune_df['Rank'].cast(\"Integer\"))\n",
        "fortune_df.withColumn(\"Employees\", fortune_df['Employees'].cast(\"Integer\"))"
      ],
      "metadata": {
        "colab": {
          "base_uri": "https://localhost:8080/"
        },
        "id": "8Op52S6EEkKK",
        "outputId": "0d9f7a4a-5ada-41a8-b5e7-55f17ac37a13"
      },
      "execution_count": null,
      "outputs": [
        {
          "output_type": "execute_result",
          "data": {
            "text/plain": [
              "DataFrame[Rank: int, Title: string, Website: string, Employees: int, Sector: string, Industry: string, Hqlocation: string, Hqaddr: string, Hqcity: string, Hqstate: string, Hqzip: int, Hqtel: string, Ceo: string, Ceo-title: string, Address: string, Ticker: string, Fullname: string, Revenues: string, Revchange: double, Profits: double, Prftchange: string, Assets: double, Totshequity: double]"
            ]
          },
          "metadata": {},
          "execution_count": 3
        }
      ]
    },
    {
      "cell_type": "code",
      "source": [
        "from pyspark.ml.feature import StringIndexer\n",
        "TitleIndex = StringIndexer(inputCol = 'Title', outputCol = 'TitleIndex')\n",
        "indexed = TitleIndex.fit(fortune_df).transform(fortune_df)\n",
        "indexed.show()"
      ],
      "metadata": {
        "id": "o0Qb8zqZF5Wo",
        "colab": {
          "base_uri": "https://localhost:8080/"
        },
        "outputId": "55b305bc-58c6-4747-c582-44773b8911ad"
      },
      "execution_count": null,
      "outputs": [
        {
          "output_type": "stream",
          "name": "stdout",
          "text": [
            "+----+--------------------+--------------------+---------+--------------------+--------------------+-----------------+--------------------+-------------+-------+-----+------------+--------------------+--------------------+--------------------+------+--------------------+--------+---------+-------+----------+---------+-----------+----------+\n",
            "|Rank|               Title|             Website|Employees|              Sector|            Industry|       Hqlocation|              Hqaddr|       Hqcity|Hqstate|Hqzip|       Hqtel|                 Ceo|           Ceo-title|             Address|Ticker|            Fullname|Revenues|Revchange|Profits|Prftchange|   Assets|Totshequity|TitleIndex|\n",
            "+----+--------------------+--------------------+---------+--------------------+--------------------+-----------------+--------------------+-------------+-------+-----+------------+--------------------+--------------------+--------------------+------+--------------------+--------+---------+-------+----------+---------+-----------+----------+\n",
            "|   1|             Walmart|http://www.walmar...|  2300000|           Retailing|General Merchandi...|  Bentonville, AR| 702 S.W. Eighth St.|  Bentonville|     AR|72716|479-273-4000| C. Douglas McMillon|President, Chief ...|702 S.W. Eighth S...|   WMT|Wal-Mart Stores, ...|  485873|      0.8|13643.0|      -7.2| 198825.0|    77798.0|     474.0|\n",
            "|   2|  Berkshire Hathaway|http://www.berksh...|   367700|          Financials|Insurance: Proper...|        Omaha, NE|     3555 Farnam St.|        Omaha|     NE|68131|402-346-1400|   Warren E. Buffett|Chairman & Chief ...|3555 Farnam St., ...|  BRKA|Berkshire Hathawa...|  223604|      6.1|24074.0|         0| 620854.0|   283001.0|      71.0|\n",
            "|   3|               Apple|http://www.apple.com|   116000|          Technology|Computers, Office...|    Cupertino, CA|     1 Infinite Loop|    Cupertino|     CA|95014|408-996-1010|     Timothy D. Cook|Chief Executive O...|1 Infinite Loop, ...|  AAPL|         Apple, Inc.|  215639|     -7.7|45687.0|     -14.4| 321686.0|   128249.0|      45.0|\n",
            "|   4|         Exxon Mobil|http://www.exxonm...|    72700|              Energy|  Petroleum Refining|       Irving, TX|5959 Las Colinas ...|       Irving|     TX|75039|972-444-1000|     Darren W. Woods|Chairman & Chief ...|5959 Las Colinas ...|   XOM|Exxon Mobil Corpo...|  205004|    -16.7| 7840.0|     -51.5| 330314.0|   167325.0|     177.0|\n",
            "|   5|            McKesson|http://www.mckess...|    68000|         Wholesalers|Wholesalers: Heal...|San Francisco, CA|          1 Post St.|San Francisco|     CA|94104|415-983-8300|  John H. Hammergren|Chairman, Preside...|1 Post St., San F...|   MCK|McKesson Corporation|  192487|      6.2| 2258.0|        53|  56563.0|     8924.0|     299.0|\n",
            "|   6|  UnitedHealth Group|http://www.united...|   230000|         Health Care|Health Care: Insu...|   Minnetonka, MN|    9900 Bren Rd. E.|   Minnetonka|     MN|55343|952-936-1300|  Stephen J. Hemsley|Chief Executive O...|9900 Bren Rd. E.,...|   UNH|UnitedHealth Grou...|  184840|     17.7| 7017.0|      20.7| 122810.0|    38274.0|     457.0|\n",
            "|   7|          CVS Health|http://www.cvshea...|   204000|         Health Care|Health Care: Phar...|   Woonsocket, RI|           1 CVS Dr.|   Woonsocket|     RI| 2895|401-765-1500|      Larry J. Merlo|President, Chief ...|1 CVS Dr., Woonso...|   CVS|CVS Health Corpor...|  177526|     15.8| 5317.0|       1.5|  94462.0|    36830.0|      93.0|\n",
            "|   8|      General Motors|   http://www.gm.com|   225000|Motor Vehicles & ...|Motor Vehicles an...|      Detroit, MI|300 Renaissance C...|      Detroit|     MI|48265|313-556-5000|       Mary T. Barra|Chairman & Chief ...|300 Renaissance C...|    GM|General Motors Co...|  166380|      9.2| 9427.0|      -2.7| 221690.0|    43836.0|     201.0|\n",
            "|   9|                AT&T|  http://www.att.com|   268540|  Telecommunications|  Telecommunications|       Dallas, TX|    208 S. Akard St.|       Dallas|     TX|75202|210-821-4105|Randall L. Stephe...|Chairman, Preside...|208 S. Akard St.,...|     T|           AT&T Inc.|  163786|     11.6|12976.0|      -2.8| 403821.0|   123135.0|       9.0|\n",
            "|  10|          Ford Motor| http://www.ford.com|   201000|Motor Vehicles & ...|Motor Vehicles an...|     Dearborn, MI|      1 American Rd.|     Dearborn|     MI|48126|313-322-3000|    James P. Hackett|President, Chief ...|1 American Rd., D...|     F|  Ford Motor Company|  151800|      1.5| 4596.0|     -37.7| 237951.0|    29170.0|     191.0|\n",
            "|  11|   AmerisourceBergen|http://www.ameris...|    18500|         Wholesalers|Wholesalers: Heal...| Chesterbrook, PA|     1300 Morris Dr.| Chesterbrook|     PA|19087|610-727-7000|    Steven H. Collis|Chairman, Preside...|1300 Morris Dr., ...|   ABC|AmerisourceBergen...|  146850|      8.0| 1427.9|     -37.7|  33656.0|     2129.0|      38.0|\n",
            "|  12|          Amazon.com|http://www.amazon...|   341400|          Technology|Internet Services...|      Seattle, WA|   410 Terry Ave. N.|      Seattle|     WA|98109|206-266-1000|    Jeffrey P. Bezos|Chairman, Preside...|410 Terry Ave. N....|  AMZN|    Amazon.com, Inc.|  135987|     27.1| 2371.0|     297.8|  83402.0|    19285.0|      29.0|\n",
            "|  13|    General Electric|   http://www.ge.com|   295000|         Industrials|Industrial Machinery|       Boston, MA|   41 Farnsworth St.|       Boston|     MA| 2210|617-443-3000|   Jeffrey R. Immelt|Chairman & Chief ...|41 Farnsworth St....|    GE|General Electric ...|  126661|     -9.8| 8831.0|     297.8| 365183.0|    75828.0|     199.0|\n",
            "|  14|             Verizon|http://www.verizo...|   160900|  Telecommunications|  Telecommunications|     New York, NY|1095 Ave. of the ...|     New York|     NY|10036|212-395-1000|    Lowell C. McAdam|Chairman & Chief ...|1095 Ave. of the ...|    VZ|Verizon Communica...|  125980|     -4.3|13127.0|     -26.6| 244180.0|    22524.0|     464.0|\n",
            "|  15|     Cardinal Health|http://www.cardin...|    37300|         Wholesalers|Wholesalers: Heal...|       Dublin, OH| 7000 Cardinal Place|       Dublin|     OH|43017|614-757-5000|   George S. Barrett|Chairman & Chief ...|7000 Cardinal Pla...|   CAH|Cardinal Health, ...|  121546|     18.5| 1427.0|      17.4|  34122.0|     6554.0|      99.0|\n",
            "|  16|              Costco|http://www.costco...|   172000|           Retailing|General Merchandi...|     Issaquah, WA|        999 Lake Dr.|     Issaquah|     WA|98027|425-313-8100|    W. Craig Jelinek|President, Chief ...|999 Lake Dr., Iss...|  COST|Costco Wholesale ...|  118719|      2.2| 2350.0|      -1.1|  33163.0|    12079.0|     130.0|\n",
            "|  17|Walgreens Boots A...|http://www.walgre...|   300000|  Food & Drug Stores|Food and Drug Stores|    Deerfield, IL|      108 Wilmot Rd.|    Deerfield|     IL|60015|847-315-2500|     Stefano Pessina|President, Chief ...|108 Wilmot Rd., D...|   WBA|Walgreens Boots A...|  117351|     13.4| 4173.0|      -1.1|  72688.0|    29880.0|     473.0|\n",
            "|  18|              Kroger|http://www.thekro...|   443000|  Food & Drug Stores|Food and Drug Stores|   Cincinnati, OH|       1014 Vine St.|   Cincinnati|     OH|45202|513-762-4000|  W. Rodney McMullen|Chairman & Chief ...|1014 Vine St., Ci...|    KR|  The Kroger Company|  115337|      5.0| 1975.0|      -3.1|  36505.0|     6698.0|     263.0|\n",
            "|  19|             Chevron|http://www.chevro...|    55200|              Energy|  Petroleum Refining|    San Ramon, CA|6001 Bollinger Ca...|    San Ramon|     CA|94583|925-842-1000|      John S. Watson|Chairman & Chief ...|6001 Bollinger Ca...|   CVX| Chevron Corporation|  107567|    -18.0| -497.0|    -110.8| 260078.0|   145556.0|     111.0|\n",
            "|  20|          Fannie Mae|http://www.fannie...|     7000|          Financials|Diversified Finan...|   Washington, DC|3900 Wisconsin Av...|   Washington|     DC|20016|800-232-6643|Timothy J. Mayopo...|President, Chief ...|3900 Wisconsin Av...|  FNMA|          Fannie Mae|  107162|     -2.9|12313.0|      12.4|3287968.0|     6071.0|     179.0|\n",
            "+----+--------------------+--------------------+---------+--------------------+--------------------+-----------------+--------------------+-------------+-------+-----+------------+--------------------+--------------------+--------------------+------+--------------------+--------+---------+-------+----------+---------+-----------+----------+\n",
            "only showing top 20 rows\n",
            "\n"
          ]
        }
      ]
    }
  ]
}